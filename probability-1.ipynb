{
 "cells": [
  {
   "cell_type": "markdown",
   "id": "cecbebbc-4af9-4b65-a9c2-b5063131e389",
   "metadata": {},
   "source": [
    "## Probability for Datascience"
   ]
  },
  {
   "cell_type": "code",
   "execution_count": 221,
   "id": "9dd5dba6-987f-43e7-bd2c-410301525937",
   "metadata": {
    "scrolled": true
   },
   "outputs": [
    {
     "name": "stdout",
     "output_type": "stream",
     "text": [
      "Requirement already satisfied: prob140 in c:\\users\\sadiq\\anaconda3\\lib\\site-packages (0.4.1.5)\n",
      "Requirement already satisfied: datascience in c:\\users\\sadiq\\anaconda3\\lib\\site-packages (from prob140) (0.17.6)\n",
      "Requirement already satisfied: folium in c:\\users\\sadiq\\anaconda3\\lib\\site-packages (from prob140) (0.17.0)\n",
      "Requirement already satisfied: sphinx in c:\\users\\sadiq\\anaconda3\\lib\\site-packages (from prob140) (5.0.2)\n",
      "Requirement already satisfied: setuptools in c:\\users\\sadiq\\anaconda3\\lib\\site-packages (from prob140) (68.0.0)\n",
      "Requirement already satisfied: sympy in c:\\users\\sadiq\\anaconda3\\lib\\site-packages (from prob140) (1.11.1)\n",
      "Requirement already satisfied: matplotlib>=3.0.0 in c:\\users\\sadiq\\anaconda3\\lib\\site-packages (from datascience->prob140) (3.7.2)\n",
      "Requirement already satisfied: pandas in c:\\users\\sadiq\\anaconda3\\lib\\site-packages (from datascience->prob140) (2.0.3)\n",
      "Requirement already satisfied: scipy in c:\\users\\sadiq\\anaconda3\\lib\\site-packages (from datascience->prob140) (1.11.1)\n",
      "Requirement already satisfied: numpy in c:\\users\\sadiq\\anaconda3\\lib\\site-packages (from datascience->prob140) (1.24.3)\n",
      "Requirement already satisfied: ipython in c:\\users\\sadiq\\anaconda3\\lib\\site-packages (from datascience->prob140) (8.15.0)\n",
      "Requirement already satisfied: plotly in c:\\users\\sadiq\\anaconda3\\lib\\site-packages (from datascience->prob140) (5.9.0)\n",
      "Requirement already satisfied: branca in c:\\users\\sadiq\\anaconda3\\lib\\site-packages (from datascience->prob140) (0.7.2)\n",
      "Requirement already satisfied: jinja2>=2.9 in c:\\users\\sadiq\\anaconda3\\lib\\site-packages (from folium->prob140) (3.1.2)\n",
      "Requirement already satisfied: requests in c:\\users\\sadiq\\anaconda3\\lib\\site-packages (from folium->prob140) (2.31.0)\n",
      "Requirement already satisfied: xyzservices in c:\\users\\sadiq\\anaconda3\\lib\\site-packages (from folium->prob140) (2022.9.0)\n",
      "Requirement already satisfied: sphinxcontrib-applehelp in c:\\users\\sadiq\\anaconda3\\lib\\site-packages (from sphinx->prob140) (1.0.2)\n",
      "Requirement already satisfied: sphinxcontrib-devhelp in c:\\users\\sadiq\\anaconda3\\lib\\site-packages (from sphinx->prob140) (1.0.2)\n",
      "Requirement already satisfied: sphinxcontrib-jsmath in c:\\users\\sadiq\\anaconda3\\lib\\site-packages (from sphinx->prob140) (1.0.1)\n",
      "Requirement already satisfied: sphinxcontrib-htmlhelp>=2.0.0 in c:\\users\\sadiq\\anaconda3\\lib\\site-packages (from sphinx->prob140) (2.0.0)\n",
      "Requirement already satisfied: sphinxcontrib-serializinghtml>=1.1.5 in c:\\users\\sadiq\\anaconda3\\lib\\site-packages (from sphinx->prob140) (1.1.5)\n",
      "Requirement already satisfied: sphinxcontrib-qthelp in c:\\users\\sadiq\\anaconda3\\lib\\site-packages (from sphinx->prob140) (1.0.3)\n",
      "Requirement already satisfied: Pygments>=2.0 in c:\\users\\sadiq\\anaconda3\\lib\\site-packages (from sphinx->prob140) (2.15.1)\n",
      "Requirement already satisfied: docutils<0.19,>=0.14 in c:\\users\\sadiq\\anaconda3\\lib\\site-packages (from sphinx->prob140) (0.18.1)\n",
      "Requirement already satisfied: snowballstemmer>=1.1 in c:\\users\\sadiq\\anaconda3\\lib\\site-packages (from sphinx->prob140) (2.2.0)\n",
      "Requirement already satisfied: babel>=1.3 in c:\\users\\sadiq\\anaconda3\\lib\\site-packages (from sphinx->prob140) (2.11.0)\n",
      "Requirement already satisfied: alabaster<0.8,>=0.7 in c:\\users\\sadiq\\anaconda3\\lib\\site-packages (from sphinx->prob140) (0.7.12)\n",
      "Requirement already satisfied: imagesize in c:\\users\\sadiq\\anaconda3\\lib\\site-packages (from sphinx->prob140) (1.4.1)\n",
      "Requirement already satisfied: packaging in c:\\users\\sadiq\\anaconda3\\lib\\site-packages (from sphinx->prob140) (23.1)\n",
      "Requirement already satisfied: colorama>=0.3.5 in c:\\users\\sadiq\\anaconda3\\lib\\site-packages (from sphinx->prob140) (0.4.6)\n",
      "Requirement already satisfied: mpmath>=0.19 in c:\\users\\sadiq\\anaconda3\\lib\\site-packages (from sympy->prob140) (1.3.0)\n",
      "Requirement already satisfied: pytz>=2015.7 in c:\\users\\sadiq\\anaconda3\\lib\\site-packages (from babel>=1.3->sphinx->prob140) (2023.3.post1)\n",
      "Requirement already satisfied: MarkupSafe>=2.0 in c:\\users\\sadiq\\anaconda3\\lib\\site-packages (from jinja2>=2.9->folium->prob140) (2.1.1)\n",
      "Requirement already satisfied: contourpy>=1.0.1 in c:\\users\\sadiq\\anaconda3\\lib\\site-packages (from matplotlib>=3.0.0->datascience->prob140) (1.0.5)\n",
      "Requirement already satisfied: cycler>=0.10 in c:\\users\\sadiq\\anaconda3\\lib\\site-packages (from matplotlib>=3.0.0->datascience->prob140) (0.11.0)\n",
      "Requirement already satisfied: fonttools>=4.22.0 in c:\\users\\sadiq\\anaconda3\\lib\\site-packages (from matplotlib>=3.0.0->datascience->prob140) (4.25.0)\n",
      "Requirement already satisfied: kiwisolver>=1.0.1 in c:\\users\\sadiq\\anaconda3\\lib\\site-packages (from matplotlib>=3.0.0->datascience->prob140) (1.4.4)\n",
      "Requirement already satisfied: pillow>=6.2.0 in c:\\users\\sadiq\\anaconda3\\lib\\site-packages (from matplotlib>=3.0.0->datascience->prob140) (10.0.1)\n",
      "Requirement already satisfied: pyparsing<3.1,>=2.3.1 in c:\\users\\sadiq\\anaconda3\\lib\\site-packages (from matplotlib>=3.0.0->datascience->prob140) (3.0.9)\n",
      "Requirement already satisfied: python-dateutil>=2.7 in c:\\users\\sadiq\\anaconda3\\lib\\site-packages (from matplotlib>=3.0.0->datascience->prob140) (2.8.2)\n",
      "Requirement already satisfied: charset-normalizer<4,>=2 in c:\\users\\sadiq\\anaconda3\\lib\\site-packages (from requests->folium->prob140) (2.0.4)\n",
      "Requirement already satisfied: idna<4,>=2.5 in c:\\users\\sadiq\\anaconda3\\lib\\site-packages (from requests->folium->prob140) (3.4)\n",
      "Requirement already satisfied: urllib3<3,>=1.21.1 in c:\\users\\sadiq\\anaconda3\\lib\\site-packages (from requests->folium->prob140) (1.26.16)\n",
      "Requirement already satisfied: certifi>=2017.4.17 in c:\\users\\sadiq\\anaconda3\\lib\\site-packages (from requests->folium->prob140) (2024.7.4)\n",
      "Requirement already satisfied: backcall in c:\\users\\sadiq\\anaconda3\\lib\\site-packages (from ipython->datascience->prob140) (0.2.0)\n",
      "Requirement already satisfied: decorator in c:\\users\\sadiq\\anaconda3\\lib\\site-packages (from ipython->datascience->prob140) (5.1.1)\n",
      "Requirement already satisfied: jedi>=0.16 in c:\\users\\sadiq\\anaconda3\\lib\\site-packages (from ipython->datascience->prob140) (0.18.1)\n",
      "Requirement already satisfied: matplotlib-inline in c:\\users\\sadiq\\anaconda3\\lib\\site-packages (from ipython->datascience->prob140) (0.1.6)\n",
      "Requirement already satisfied: pickleshare in c:\\users\\sadiq\\anaconda3\\lib\\site-packages (from ipython->datascience->prob140) (0.7.5)\n",
      "Requirement already satisfied: prompt-toolkit!=3.0.37,<3.1.0,>=3.0.30 in c:\\users\\sadiq\\anaconda3\\lib\\site-packages (from ipython->datascience->prob140) (3.0.36)\n",
      "Requirement already satisfied: stack-data in c:\\users\\sadiq\\anaconda3\\lib\\site-packages (from ipython->datascience->prob140) (0.2.0)\n",
      "Requirement already satisfied: traitlets>=5 in c:\\users\\sadiq\\anaconda3\\lib\\site-packages (from ipython->datascience->prob140) (5.7.1)\n",
      "Requirement already satisfied: tzdata>=2022.1 in c:\\users\\sadiq\\anaconda3\\lib\\site-packages (from pandas->datascience->prob140) (2023.3)\n",
      "Requirement already satisfied: tenacity>=6.2.0 in c:\\users\\sadiq\\anaconda3\\lib\\site-packages (from plotly->datascience->prob140) (8.2.2)\n",
      "Requirement already satisfied: parso<0.9.0,>=0.8.0 in c:\\users\\sadiq\\anaconda3\\lib\\site-packages (from jedi>=0.16->ipython->datascience->prob140) (0.8.3)\n",
      "Requirement already satisfied: wcwidth in c:\\users\\sadiq\\anaconda3\\lib\\site-packages (from prompt-toolkit!=3.0.37,<3.1.0,>=3.0.30->ipython->datascience->prob140) (0.2.5)\n",
      "Requirement already satisfied: six>=1.5 in c:\\users\\sadiq\\anaconda3\\lib\\site-packages (from python-dateutil>=2.7->matplotlib>=3.0.0->datascience->prob140) (1.16.0)\n",
      "Requirement already satisfied: executing in c:\\users\\sadiq\\anaconda3\\lib\\site-packages (from stack-data->ipython->datascience->prob140) (0.8.3)\n",
      "Requirement already satisfied: asttokens in c:\\users\\sadiq\\anaconda3\\lib\\site-packages (from stack-data->ipython->datascience->prob140) (2.0.5)\n",
      "Requirement already satisfied: pure-eval in c:\\users\\sadiq\\anaconda3\\lib\\site-packages (from stack-data->ipython->datascience->prob140) (0.2.2)\n",
      "Note: you may need to restart the kernel to use updated packages.\n"
     ]
    }
   ],
   "source": [
    "pip install prob140"
   ]
  },
  {
   "cell_type": "code",
   "execution_count": 222,
   "id": "fdfeeb6a-7388-4bd6-a07f-d78f058a0a6e",
   "metadata": {
    "scrolled": true
   },
   "outputs": [
    {
     "name": "stdout",
     "output_type": "stream",
     "text": [
      "Requirement already satisfied: datascience in c:\\users\\sadiq\\anaconda3\\lib\\site-packages (0.17.6)\n",
      "Requirement already satisfied: folium>=0.9.1 in c:\\users\\sadiq\\anaconda3\\lib\\site-packages (from datascience) (0.17.0)\n",
      "Requirement already satisfied: setuptools in c:\\users\\sadiq\\anaconda3\\lib\\site-packages (from datascience) (68.0.0)\n",
      "Requirement already satisfied: matplotlib>=3.0.0 in c:\\users\\sadiq\\anaconda3\\lib\\site-packages (from datascience) (3.7.2)\n",
      "Requirement already satisfied: pandas in c:\\users\\sadiq\\anaconda3\\lib\\site-packages (from datascience) (2.0.3)\n",
      "Requirement already satisfied: scipy in c:\\users\\sadiq\\anaconda3\\lib\\site-packages (from datascience) (1.11.1)\n",
      "Requirement already satisfied: numpy in c:\\users\\sadiq\\anaconda3\\lib\\site-packages (from datascience) (1.24.3)\n",
      "Requirement already satisfied: ipython in c:\\users\\sadiq\\anaconda3\\lib\\site-packages (from datascience) (8.15.0)\n",
      "Requirement already satisfied: plotly in c:\\users\\sadiq\\anaconda3\\lib\\site-packages (from datascience) (5.9.0)\n",
      "Requirement already satisfied: branca in c:\\users\\sadiq\\anaconda3\\lib\\site-packages (from datascience) (0.7.2)\n",
      "Requirement already satisfied: jinja2>=2.9 in c:\\users\\sadiq\\anaconda3\\lib\\site-packages (from folium>=0.9.1->datascience) (3.1.2)\n",
      "Requirement already satisfied: requests in c:\\users\\sadiq\\anaconda3\\lib\\site-packages (from folium>=0.9.1->datascience) (2.31.0)\n",
      "Requirement already satisfied: xyzservices in c:\\users\\sadiq\\anaconda3\\lib\\site-packages (from folium>=0.9.1->datascience) (2022.9.0)\n",
      "Requirement already satisfied: contourpy>=1.0.1 in c:\\users\\sadiq\\anaconda3\\lib\\site-packages (from matplotlib>=3.0.0->datascience) (1.0.5)\n",
      "Requirement already satisfied: cycler>=0.10 in c:\\users\\sadiq\\anaconda3\\lib\\site-packages (from matplotlib>=3.0.0->datascience) (0.11.0)\n",
      "Requirement already satisfied: fonttools>=4.22.0 in c:\\users\\sadiq\\anaconda3\\lib\\site-packages (from matplotlib>=3.0.0->datascience) (4.25.0)\n",
      "Requirement already satisfied: kiwisolver>=1.0.1 in c:\\users\\sadiq\\anaconda3\\lib\\site-packages (from matplotlib>=3.0.0->datascience) (1.4.4)\n",
      "Requirement already satisfied: packaging>=20.0 in c:\\users\\sadiq\\anaconda3\\lib\\site-packages (from matplotlib>=3.0.0->datascience) (23.1)\n",
      "Requirement already satisfied: pillow>=6.2.0 in c:\\users\\sadiq\\anaconda3\\lib\\site-packages (from matplotlib>=3.0.0->datascience) (10.0.1)\n",
      "Requirement already satisfied: pyparsing<3.1,>=2.3.1 in c:\\users\\sadiq\\anaconda3\\lib\\site-packages (from matplotlib>=3.0.0->datascience) (3.0.9)\n",
      "Requirement already satisfied: python-dateutil>=2.7 in c:\\users\\sadiq\\anaconda3\\lib\\site-packages (from matplotlib>=3.0.0->datascience) (2.8.2)\n",
      "Requirement already satisfied: backcall in c:\\users\\sadiq\\anaconda3\\lib\\site-packages (from ipython->datascience) (0.2.0)\n",
      "Requirement already satisfied: decorator in c:\\users\\sadiq\\anaconda3\\lib\\site-packages (from ipython->datascience) (5.1.1)\n",
      "Requirement already satisfied: jedi>=0.16 in c:\\users\\sadiq\\anaconda3\\lib\\site-packages (from ipython->datascience) (0.18.1)\n",
      "Requirement already satisfied: matplotlib-inline in c:\\users\\sadiq\\anaconda3\\lib\\site-packages (from ipython->datascience) (0.1.6)\n",
      "Requirement already satisfied: pickleshare in c:\\users\\sadiq\\anaconda3\\lib\\site-packages (from ipython->datascience) (0.7.5)\n",
      "Requirement already satisfied: prompt-toolkit!=3.0.37,<3.1.0,>=3.0.30 in c:\\users\\sadiq\\anaconda3\\lib\\site-packages (from ipython->datascience) (3.0.36)\n",
      "Requirement already satisfied: pygments>=2.4.0 in c:\\users\\sadiq\\anaconda3\\lib\\site-packages (from ipython->datascience) (2.15.1)\n",
      "Requirement already satisfied: stack-data in c:\\users\\sadiq\\anaconda3\\lib\\site-packages (from ipython->datascience) (0.2.0)\n",
      "Requirement already satisfied: traitlets>=5 in c:\\users\\sadiq\\anaconda3\\lib\\site-packages (from ipython->datascience) (5.7.1)\n",
      "Requirement already satisfied: colorama in c:\\users\\sadiq\\anaconda3\\lib\\site-packages (from ipython->datascience) (0.4.6)\n",
      "Requirement already satisfied: pytz>=2020.1 in c:\\users\\sadiq\\anaconda3\\lib\\site-packages (from pandas->datascience) (2023.3.post1)\n",
      "Requirement already satisfied: tzdata>=2022.1 in c:\\users\\sadiq\\anaconda3\\lib\\site-packages (from pandas->datascience) (2023.3)\n",
      "Requirement already satisfied: tenacity>=6.2.0 in c:\\users\\sadiq\\anaconda3\\lib\\site-packages (from plotly->datascience) (8.2.2)\n",
      "Requirement already satisfied: parso<0.9.0,>=0.8.0 in c:\\users\\sadiq\\anaconda3\\lib\\site-packages (from jedi>=0.16->ipython->datascience) (0.8.3)\n",
      "Requirement already satisfied: MarkupSafe>=2.0 in c:\\users\\sadiq\\anaconda3\\lib\\site-packages (from jinja2>=2.9->folium>=0.9.1->datascience) (2.1.1)\n",
      "Requirement already satisfied: wcwidth in c:\\users\\sadiq\\anaconda3\\lib\\site-packages (from prompt-toolkit!=3.0.37,<3.1.0,>=3.0.30->ipython->datascience) (0.2.5)\n",
      "Requirement already satisfied: six>=1.5 in c:\\users\\sadiq\\anaconda3\\lib\\site-packages (from python-dateutil>=2.7->matplotlib>=3.0.0->datascience) (1.16.0)\n",
      "Requirement already satisfied: charset-normalizer<4,>=2 in c:\\users\\sadiq\\anaconda3\\lib\\site-packages (from requests->folium>=0.9.1->datascience) (2.0.4)\n",
      "Requirement already satisfied: idna<4,>=2.5 in c:\\users\\sadiq\\anaconda3\\lib\\site-packages (from requests->folium>=0.9.1->datascience) (3.4)\n",
      "Requirement already satisfied: urllib3<3,>=1.21.1 in c:\\users\\sadiq\\anaconda3\\lib\\site-packages (from requests->folium>=0.9.1->datascience) (1.26.16)\n",
      "Requirement already satisfied: certifi>=2017.4.17 in c:\\users\\sadiq\\anaconda3\\lib\\site-packages (from requests->folium>=0.9.1->datascience) (2024.7.4)\n",
      "Requirement already satisfied: executing in c:\\users\\sadiq\\anaconda3\\lib\\site-packages (from stack-data->ipython->datascience) (0.8.3)\n",
      "Requirement already satisfied: asttokens in c:\\users\\sadiq\\anaconda3\\lib\\site-packages (from stack-data->ipython->datascience) (2.0.5)\n",
      "Requirement already satisfied: pure-eval in c:\\users\\sadiq\\anaconda3\\lib\\site-packages (from stack-data->ipython->datascience) (0.2.2)\n",
      "Note: you may need to restart the kernel to use updated packages.\n"
     ]
    }
   ],
   "source": [
    "pip install datascience"
   ]
  },
  {
   "cell_type": "code",
   "execution_count": 223,
   "id": "9256f588-9dcf-4c54-9d6a-0ffab56281a7",
   "metadata": {
    "scrolled": true
   },
   "outputs": [
    {
     "name": "stdout",
     "output_type": "stream",
     "text": [
      "Requirement already satisfied: shapely in c:\\users\\sadiq\\anaconda3\\lib\\site-packages (2.0.6)\n",
      "Requirement already satisfied: numpy<3,>=1.14 in c:\\users\\sadiq\\anaconda3\\lib\\site-packages (from shapely) (1.24.3)\n",
      "Note: you may need to restart the kernel to use updated packages.\n"
     ]
    }
   ],
   "source": [
    "pip install shapely"
   ]
  },
  {
   "cell_type": "code",
   "execution_count": 224,
   "id": "44921bd4-4f31-44f4-abac-2a2e2a1e35ee",
   "metadata": {
    "scrolled": true
   },
   "outputs": [
    {
     "name": "stdout",
     "output_type": "stream",
     "text": [
      "Requirement already satisfied: descartes in c:\\users\\sadiq\\anaconda3\\lib\\site-packages (1.1.0)\n",
      "Requirement already satisfied: matplotlib in c:\\users\\sadiq\\anaconda3\\lib\\site-packages (from descartes) (3.7.2)\n",
      "Requirement already satisfied: contourpy>=1.0.1 in c:\\users\\sadiq\\anaconda3\\lib\\site-packages (from matplotlib->descartes) (1.0.5)\n",
      "Requirement already satisfied: cycler>=0.10 in c:\\users\\sadiq\\anaconda3\\lib\\site-packages (from matplotlib->descartes) (0.11.0)\n",
      "Requirement already satisfied: fonttools>=4.22.0 in c:\\users\\sadiq\\anaconda3\\lib\\site-packages (from matplotlib->descartes) (4.25.0)\n",
      "Requirement already satisfied: kiwisolver>=1.0.1 in c:\\users\\sadiq\\anaconda3\\lib\\site-packages (from matplotlib->descartes) (1.4.4)\n",
      "Requirement already satisfied: numpy>=1.20 in c:\\users\\sadiq\\anaconda3\\lib\\site-packages (from matplotlib->descartes) (1.24.3)\n",
      "Requirement already satisfied: packaging>=20.0 in c:\\users\\sadiq\\anaconda3\\lib\\site-packages (from matplotlib->descartes) (23.1)\n",
      "Requirement already satisfied: pillow>=6.2.0 in c:\\users\\sadiq\\anaconda3\\lib\\site-packages (from matplotlib->descartes) (10.0.1)\n",
      "Requirement already satisfied: pyparsing<3.1,>=2.3.1 in c:\\users\\sadiq\\anaconda3\\lib\\site-packages (from matplotlib->descartes) (3.0.9)\n",
      "Requirement already satisfied: python-dateutil>=2.7 in c:\\users\\sadiq\\anaconda3\\lib\\site-packages (from matplotlib->descartes) (2.8.2)\n",
      "Requirement already satisfied: six>=1.5 in c:\\users\\sadiq\\anaconda3\\lib\\site-packages (from python-dateutil>=2.7->matplotlib->descartes) (1.16.0)\n",
      "Note: you may need to restart the kernel to use updated packages.\n"
     ]
    }
   ],
   "source": [
    "pip install descartes"
   ]
  },
  {
   "cell_type": "markdown",
   "id": "575054b1-d1da-4337-b1be-9801ee5e1083",
   "metadata": {},
   "source": [
    "## Topics:\n",
    "    Theory\n",
    "    - What is Probability?\n",
    "    - Terminology in probability\n",
    "    - Types of probability\n",
    "    - Events in probability\n",
    "    - Axioms/Theorems in probability\n",
    "    - Probability of Tossing Coins\n",
    "    - Probability of Rolling Dice\n",
    "    - Probability of Drawing Cards\n",
    "    Concept\n",
    "    - Calculate Probability and distribution\n",
    "    - Equality in Distributions\n",
    "    - Joint Distributions\n",
    "    - Marginal Distributions\n",
    "    - Conditional Distributions\n",
    "    - Dependence and Independence of two Events\n",
    "    - Inclusion principles\n",
    "    - Binomial Distribution\n",
    "    - Multinomial Distribution\n",
    "    - Law of Small numbers\n",
    "    - Poisson Distribution\n",
    "    - Poissonization\n",
    "    - Expectation\n",
    "    - Additivity\n",
    "    - Markov Chains & problems"
   ]
  },
  {
   "cell_type": "markdown",
   "id": "b6e91d89-ca7a-4970-bb0d-6f24dbddc751",
   "metadata": {},
   "source": [
    "##### What is Probability?\n",
    "\n",
    "Probability can be defined as the ratio of the number of favorable outcomes to the total number of outcomes of an event. For an experiment having 'n' number of outcomes, the number of favorable outcomes can be denoted by x. The formula to calculate the probability of an event is as follows.\n",
    "\n",
    "    Probability(Event) = Favorable Outcomes/Total Outcomes = x/n\n",
    "\n"
   ]
  },
  {
   "cell_type": "markdown",
   "id": "f3aa7084-99ba-483b-be84-411df7dd017e",
   "metadata": {},
   "source": [
    "Theory: \n",
    "\n",
    "    Ref: https://statanalytica.com/blog/types-of-probability/ and \n",
    "    https://www.cuemath.com/data/probability/\n",
    "    https://www.data8.org/datascience/reference-nb/datascience-reference.html#Table-Functions-and-Methods\n",
    "    https://en.wikipedia.org/wiki/Probability_axioms"
   ]
  },
  {
   "cell_type": "markdown",
   "id": "20453c73-1004-49a2-9f11-99b3fff0cb08",
   "metadata": {},
   "source": [
    "##### Types of probability: \n",
    "\n",
    "    Classical Probability : often referred to as the \"priori\" or \"theoretical probability\", states that in an experiment where there are B equally likely outcomes, and event X has exactly A of these outcomes, then the probability of X is A/B, or P(X) = A/B. For example, when a fair die is rolled, there are six possible outcomes that are equally likely. That means, there is a 1/6 probability of rolling each number on the die.\n",
    "    \n",
    "    Empirical Probability : The empirical probability or the experimental perspective evaluates probability through thought experiments. For example, if a weighted die is rolled, such that we don't know which side has the weight, then we can get an idea for the probability of each outcome by rolling the die number of times and calculating the proportion of times the die gives that outcome and thus find the probability of that outcome.\n",
    "    \n",
    "    Subjective Probability : Subjective probability considers an individual's own belief of an event occurring. For example, the probability of a particular team winning a football match on a fan's opinion is more dependent upon their own belief and feeling and not on a formal mathematical calculation.\n",
    "    \n",
    "    Axiomatic Probability : In axiomatic probability, a set of rules or axioms by Kolmogorov are applied to all the types. The chances of occurrence or non-occurrence of any event can be quantified by the applications of these axioms, given as:\n",
    "    \n",
    "i. The smallest possible probability is zero, and the largest is one   \n",
    "ii. \n",
    "An event that is certain has a probability equal toone\n",
    "iii. \r\n",
    "Any two mutually exclusive events cannot occur simultaneously, while the union of events says only one of them can occur."
   ]
  },
  {
   "cell_type": "markdown",
   "id": "161de2ee-3f8f-433c-bebe-619f79231c13",
   "metadata": {},
   "source": [
    "In probability theory, a *random variable* is a numerical function defined on an outcome space."
   ]
  },
  {
   "cell_type": "code",
   "execution_count": 230,
   "id": "f52913b5-846d-428f-a4ab-eb3aec1c3a03",
   "metadata": {},
   "outputs": [],
   "source": [
    "import warnings\n",
    "warnings.filterwarnings(\"ignore\")\n",
    "\n",
    "from datascience import *\n",
    "from prob140 import *\n",
    "%matplotlib inline\n",
    "import matplotlib.pyplot as plt\n",
    "plt.style.use('fivethirtyeight')\n",
    "import numpy as np"
   ]
  },
  {
   "cell_type": "markdown",
   "id": "09b8388c-2def-44b1-89af-311c6b2b2123",
   "metadata": {},
   "source": [
    "### 1. Functions on Sample/outcome Space"
   ]
  },
  {
   "cell_type": "markdown",
   "id": "3f6ed6c0-b27d-4f74-ad6e-9c3a0501527f",
   "metadata": {},
   "source": [
    "Random sampling can be thought of as repeated random trials, and therefore many outcome spaces consist of sequences. An outcome space representing two tosses of a coin is\n",
    "\n",
    "$$ \n",
    "\\Omega = \\{ HH, HT, TH, TT \\}\n",
    "$$\n",
    "\n",
    "If you were tossing 10 times, the outcome space would consist of the $2^{10}$ sequences of 10 elements where each element is H or T. The outcomes are a pain to list by hand, but computers are good at saving us that kind of pain."
   ]
  },
  {
   "cell_type": "markdown",
   "id": "d33bbfac-97b7-4aec-bc55-7b70a4aca0a8",
   "metadata": {},
   "source": [
    "#### Product Spaces ####\n",
    "The *product* of two sets $A$ and $B$ is the set of all pairs $(a, b)$ where $a \\in A$ and $b \\in B$. This concept is exactly what we need to describe spaces representing multiple trials.\n",
    "\n",
    "For example, the space representing the outcome of one toss of a coin is $\\Omega_1 = \\{ H, T \\}$. The *product* of $\\Omega_1$ with itself is the set of pairs $(H, H)$, $(H, T)$, $(T, H)$, and $(T, T)$, which you will recognize as the outcomes of two tosses of a coin. The product of this new space and $\\Omega_1$ is the space representing three tosses. And so on.\n",
    "\n",
    "The Python module `itertools` contains a function `product` that constructs product spaces. Let's import it."
   ]
  },
  {
   "cell_type": "code",
   "execution_count": 234,
   "id": "66b70034-2a5e-4283-9cdf-80f869d97dd7",
   "metadata": {},
   "outputs": [
    {
     "data": {
      "text/plain": [
       "(array(['H', 'T'],\n",
       "       dtype='<U1'),\n",
       " [('H', 'H'), ('H', 'T'), ('T', 'H'), ('T', 'T')])"
      ]
     },
     "execution_count": 234,
     "metadata": {},
     "output_type": "execute_result"
    }
   ],
   "source": [
    "from itertools import product\n",
    "\n",
    "one_toss = make_array('H', 'T')\n",
    "\n",
    "two_tosses = list(product(one_toss, repeat=2))\n",
    "one_toss, two_tosses"
   ]
  },
  {
   "cell_type": "code",
   "execution_count": 235,
   "id": "5ec15765-a0b7-47d6-a1e8-f14dc56382f8",
   "metadata": {},
   "outputs": [
    {
     "data": {
      "text/plain": [
       "[('H', 'H', 'H'),\n",
       " ('H', 'H', 'T'),\n",
       " ('H', 'T', 'H'),\n",
       " ('H', 'T', 'T'),\n",
       " ('T', 'H', 'H'),\n",
       " ('T', 'H', 'T'),\n",
       " ('T', 'T', 'H'),\n",
       " ('T', 'T', 'T')]"
      ]
     },
     "execution_count": 235,
     "metadata": {},
     "output_type": "execute_result"
    }
   ],
   "source": [
    "three_tosses = list(product(one_toss, repeat=3))\n",
    "three_tosses"
   ]
  },
  {
   "cell_type": "markdown",
   "id": "eeb5d2fa-b7f1-4640-9b23-732f4765e297",
   "metadata": {},
   "source": [
    "#### Probability Space ####\n",
    "A *probability space* is an outcome space accompanied by the probabilities of all the outcomes. If you assume all eight outcomes of three tosses are equally likely, the probabilities are all 1/8:"
   ]
  },
  {
   "cell_type": "code",
   "execution_count": 237,
   "id": "1eb92e62-439c-4a61-850b-066299baa609",
   "metadata": {},
   "outputs": [],
   "source": [
    "three_toss_probs = (1/8)*np.ones(8)"
   ]
  },
  {
   "cell_type": "code",
   "execution_count": 238,
   "id": "b48e3a1b-fd6a-42e1-982c-7533309423c9",
   "metadata": {},
   "outputs": [
    {
     "data": {
      "text/plain": [
       "array([ 1.,  1.,  1.,  1.,  1.,  1.,  1.,  1.])"
      ]
     },
     "execution_count": 238,
     "metadata": {},
     "output_type": "execute_result"
    }
   ],
   "source": [
    "np.ones(8)"
   ]
  },
  {
   "cell_type": "code",
   "execution_count": 239,
   "id": "986f3d42-c19c-4d01-ad1e-b5a09a6247b0",
   "metadata": {},
   "outputs": [],
   "source": [
    "#Corresponding probability space\n",
    "three_toss_space = Table().with_columns(\n",
    "    'omega', three_tosses,\n",
    "    'P(omega)', three_toss_probs\n",
    ")"
   ]
  },
  {
   "cell_type": "markdown",
   "id": "0be08fec-0e40-4459-9237-7c3f317843e2",
   "metadata": {},
   "source": [
    "For Dice rolled 5 times in a row with 6 sides"
   ]
  },
  {
   "cell_type": "markdown",
   "id": "1c20efaf-92d4-49f4-97e1-44da227ed79e",
   "metadata": {},
   "source": [
    "Product spaces get large very quickly. If you roll a die 5 times, there are almost 8,000 possible outcomes:"
   ]
  },
  {
   "cell_type": "code",
   "execution_count": 241,
   "id": "d3d35a92-4cb0-46dd-aabe-c234b0e1ee5a",
   "metadata": {},
   "outputs": [
    {
     "data": {
      "text/plain": [
       "7776"
      ]
     },
     "execution_count": 241,
     "metadata": {},
     "output_type": "execute_result"
    }
   ],
   "source": [
    "6**5"
   ]
  },
  {
   "cell_type": "markdown",
   "id": "a4ddc0a3-4759-4d13-877d-ae16ec195935",
   "metadata": {},
   "source": [
    "But we have `product` so we can still list them all! Here is a probability space representing 5 rolls of a die."
   ]
  },
  {
   "cell_type": "code",
   "execution_count": 243,
   "id": "82c2c38b-b002-49a9-9216-07d3f98f7b1d",
   "metadata": {},
   "outputs": [
    {
     "data": {
      "text/html": [
       "<table border=\"1\" class=\"dataframe\">\n",
       "    <thead>\n",
       "        <tr>\n",
       "            <th>omega</th> <th>P(omega)</th>\n",
       "        </tr>\n",
       "    </thead>\n",
       "    <tbody>\n",
       "        <tr>\n",
       "            <td>[1 1 1 1 1]</td> <td>0.000128601</td>\n",
       "        </tr>\n",
       "        <tr>\n",
       "            <td>[1 1 1 1 2]</td> <td>0.000128601</td>\n",
       "        </tr>\n",
       "        <tr>\n",
       "            <td>[1 1 1 1 3]</td> <td>0.000128601</td>\n",
       "        </tr>\n",
       "        <tr>\n",
       "            <td>[1 1 1 1 4]</td> <td>0.000128601</td>\n",
       "        </tr>\n",
       "        <tr>\n",
       "            <td>[1 1 1 1 5]</td> <td>0.000128601</td>\n",
       "        </tr>\n",
       "        <tr>\n",
       "            <td>[1 1 1 1 6]</td> <td>0.000128601</td>\n",
       "        </tr>\n",
       "        <tr>\n",
       "            <td>[1 1 1 2 1]</td> <td>0.000128601</td>\n",
       "        </tr>\n",
       "        <tr>\n",
       "            <td>[1 1 1 2 2]</td> <td>0.000128601</td>\n",
       "        </tr>\n",
       "        <tr>\n",
       "            <td>[1 1 1 2 3]</td> <td>0.000128601</td>\n",
       "        </tr>\n",
       "        <tr>\n",
       "            <td>[1 1 1 2 4]</td> <td>0.000128601</td>\n",
       "        </tr>\n",
       "    </tbody>\n",
       "</table>\n",
       "<p>... (7766 rows omitted)</p>"
      ],
      "text/plain": [
       "omega       | P(omega)\n",
       "[1 1 1 1 1] | 0.000128601\n",
       "[1 1 1 1 2] | 0.000128601\n",
       "[1 1 1 1 3] | 0.000128601\n",
       "[1 1 1 1 4] | 0.000128601\n",
       "[1 1 1 1 5] | 0.000128601\n",
       "[1 1 1 1 6] | 0.000128601\n",
       "[1 1 1 2 1] | 0.000128601\n",
       "[1 1 1 2 2] | 0.000128601\n",
       "[1 1 1 2 3] | 0.000128601\n",
       "[1 1 1 2 4] | 0.000128601\n",
       "... (7766 rows omitted)"
      ]
     },
     "execution_count": 243,
     "metadata": {},
     "output_type": "execute_result"
    }
   ],
   "source": [
    "die = np.arange(1, 7, 1)\n",
    "\n",
    "five_rolls = list(product(die, repeat=5))  # All possible results of 5 rolls\n",
    "\n",
    "five_rolls_probs = (1/6**5)**np.ones(6**5)  # Each result has chance 1/6**5\n",
    "\n",
    "five_rolls_space = Table().with_columns(\n",
    "   'omega', five_rolls,\n",
    "    'P(omega)', five_rolls_probs\n",
    ")\n",
    "\n",
    "five_rolls_space"
   ]
  },
  {
   "cell_type": "markdown",
   "id": "76864376-90ac-465f-a4fe-ae9be67a85e6",
   "metadata": {},
   "source": [
    "The sum of the rolls is a numerical function on the outcome space $\\Omega$ of five rolls. The sum is thus a *random variable*. Let's call it $S$. Then, formally,\n",
    "\n",
    "$$\n",
    "S: \\Omega \\rightarrow \\{ 5, 6, \\ldots, 30 \\}\n",
    "$$\n",
    "\n",
    "The range of $S$ is the integers 5 through 30, because each die shows at least one spot and at most six spots. We can also use the equivalent notation\n",
    "\n",
    "$$\n",
    "\\Omega \\stackrel{S}{\\rightarrow} \\{ 5, 6, \\ldots, 30 \\}\n",
    "$$"
   ]
  },
  {
   "cell_type": "markdown",
   "id": "9f06d3c9-d549-4c7a-9fbf-97f3b6daa4ca",
   "metadata": {},
   "source": [
    "Formally, an **outcome space** is just a set, usually denoted by $\\Omega$. That's the upper case Greek letter Omega. "
   ]
  },
  {
   "cell_type": "code",
   "execution_count": 246,
   "id": "018bf77b-b1f3-48c4-b8cd-9ccc1dd3d565",
   "metadata": {},
   "outputs": [
    {
     "data": {
      "text/html": [
       "<table border=\"1\" class=\"dataframe\">\n",
       "    <thead>\n",
       "        <tr>\n",
       "            <th>omega</th> <th>S(omega)</th> <th>P(omega)</th>\n",
       "        </tr>\n",
       "    </thead>\n",
       "    <tbody>\n",
       "        <tr>\n",
       "            <td>[1 1 1 1 1]</td> <td>5       </td> <td>0.000128601</td>\n",
       "        </tr>\n",
       "        <tr>\n",
       "            <td>[1 1 1 1 2]</td> <td>6       </td> <td>0.000128601</td>\n",
       "        </tr>\n",
       "        <tr>\n",
       "            <td>[1 1 1 1 3]</td> <td>7       </td> <td>0.000128601</td>\n",
       "        </tr>\n",
       "        <tr>\n",
       "            <td>[1 1 1 1 4]</td> <td>8       </td> <td>0.000128601</td>\n",
       "        </tr>\n",
       "        <tr>\n",
       "            <td>[1 1 1 1 5]</td> <td>9       </td> <td>0.000128601</td>\n",
       "        </tr>\n",
       "        <tr>\n",
       "            <td>[1 1 1 1 6]</td> <td>10      </td> <td>0.000128601</td>\n",
       "        </tr>\n",
       "        <tr>\n",
       "            <td>[1 1 1 2 1]</td> <td>6       </td> <td>0.000128601</td>\n",
       "        </tr>\n",
       "        <tr>\n",
       "            <td>[1 1 1 2 2]</td> <td>7       </td> <td>0.000128601</td>\n",
       "        </tr>\n",
       "        <tr>\n",
       "            <td>[1 1 1 2 3]</td> <td>8       </td> <td>0.000128601</td>\n",
       "        </tr>\n",
       "        <tr>\n",
       "            <td>[1 1 1 2 4]</td> <td>9       </td> <td>0.000128601</td>\n",
       "        </tr>\n",
       "    </tbody>\n",
       "</table>\n",
       "<p>... (7766 rows omitted)</p>"
      ],
      "text/plain": [
       "omega       | S(omega) | P(omega)\n",
       "[1 1 1 1 1] | 5        | 0.000128601\n",
       "[1 1 1 1 2] | 6        | 0.000128601\n",
       "[1 1 1 1 3] | 7        | 0.000128601\n",
       "[1 1 1 1 4] | 8        | 0.000128601\n",
       "[1 1 1 1 5] | 9        | 0.000128601\n",
       "[1 1 1 1 6] | 10       | 0.000128601\n",
       "[1 1 1 2 1] | 6        | 0.000128601\n",
       "[1 1 1 2 2] | 7        | 0.000128601\n",
       "[1 1 1 2 3] | 8        | 0.000128601\n",
       "[1 1 1 2 4] | 9        | 0.000128601\n",
       "... (7766 rows omitted)"
      ]
     },
     "execution_count": 246,
     "metadata": {},
     "output_type": "execute_result"
    }
   ],
   "source": [
    "five_rolls_sum = five_rolls_space.with_columns(\n",
    "    'S(omega)', five_rolls_space.apply(sum, 'omega')\n",
    ").move_to_end('P(omega)')\n",
    "\n",
    "five_rolls_sum"
   ]
  },
  {
   "cell_type": "code",
   "execution_count": 247,
   "id": "b34c3379-4c85-40e6-b35c-ae994fa93ac1",
   "metadata": {},
   "outputs": [
    {
     "data": {
      "text/html": [
       "<table border=\"1\" class=\"dataframe\">\n",
       "    <thead>\n",
       "        <tr>\n",
       "            <th>omega</th> <th>S(omega)</th> <th>P(omega)</th>\n",
       "        </tr>\n",
       "    </thead>\n",
       "    <tbody>\n",
       "        <tr>\n",
       "            <td>[1 1 1 1 6]</td> <td>10      </td> <td>0.000128601</td>\n",
       "        </tr>\n",
       "        <tr>\n",
       "            <td>[1 1 1 2 5]</td> <td>10      </td> <td>0.000128601</td>\n",
       "        </tr>\n",
       "        <tr>\n",
       "            <td>[1 1 1 3 4]</td> <td>10      </td> <td>0.000128601</td>\n",
       "        </tr>\n",
       "        <tr>\n",
       "            <td>[1 1 1 4 3]</td> <td>10      </td> <td>0.000128601</td>\n",
       "        </tr>\n",
       "        <tr>\n",
       "            <td>[1 1 1 5 2]</td> <td>10      </td> <td>0.000128601</td>\n",
       "        </tr>\n",
       "        <tr>\n",
       "            <td>[1 1 1 6 1]</td> <td>10      </td> <td>0.000128601</td>\n",
       "        </tr>\n",
       "        <tr>\n",
       "            <td>[1 1 2 1 5]</td> <td>10      </td> <td>0.000128601</td>\n",
       "        </tr>\n",
       "        <tr>\n",
       "            <td>[1 1 2 2 4]</td> <td>10      </td> <td>0.000128601</td>\n",
       "        </tr>\n",
       "        <tr>\n",
       "            <td>[1 1 2 3 3]</td> <td>10      </td> <td>0.000128601</td>\n",
       "        </tr>\n",
       "        <tr>\n",
       "            <td>[1 1 2 4 2]</td> <td>10      </td> <td>0.000128601</td>\n",
       "        </tr>\n",
       "    </tbody>\n",
       "</table>\n",
       "<p>... (116 rows omitted)</p>"
      ],
      "text/plain": [
       "omega       | S(omega) | P(omega)\n",
       "[1 1 1 1 6] | 10       | 0.000128601\n",
       "[1 1 1 2 5] | 10       | 0.000128601\n",
       "[1 1 1 3 4] | 10       | 0.000128601\n",
       "[1 1 1 4 3] | 10       | 0.000128601\n",
       "[1 1 1 5 2] | 10       | 0.000128601\n",
       "[1 1 1 6 1] | 10       | 0.000128601\n",
       "[1 1 2 1 5] | 10       | 0.000128601\n",
       "[1 1 2 2 4] | 10       | 0.000128601\n",
       "[1 1 2 3 3] | 10       | 0.000128601\n",
       "[1 1 2 4 2] | 10       | 0.000128601\n",
       "... (116 rows omitted)"
      ]
     },
     "execution_count": 247,
     "metadata": {},
     "output_type": "execute_result"
    }
   ],
   "source": [
    "five_rolls_sum.where('S(omega)', are.equal_to(10))"
   ]
  },
  {
   "cell_type": "markdown",
   "id": "f195d46b-fccb-4cd1-a215-fb0dc52a604e",
   "metadata": {},
   "source": [
    "There are 126 values of $\\omega$ for which $S(\\omega) = 10$. Since all the $\\omega$ are equally likely, the chance that $S$ has the value 10 is 126/7776. \n",
    "\n",
    "We will usually be informal with notation and write $\\{ S = 10 \\}$ instead of $\\{ S \\in \\{10\\} \\}$:\n",
    "\n",
    "$$\n",
    "P(S = 10) = \\frac{126}{7776} = 1.62\\%\n",
    "$$"
   ]
  },
  {
   "cell_type": "code",
   "execution_count": 284,
   "id": "6fbb120a-b63d-4cf7-be1b-0fc4034fc6b1",
   "metadata": {},
   "outputs": [
    {
     "data": {
      "text/plain": [
       "0.016203725999999998"
      ]
     },
     "execution_count": 284,
     "metadata": {},
     "output_type": "execute_result"
    }
   ],
   "source": [
    "126*0.000128601"
   ]
  },
  {
   "cell_type": "markdown",
   "id": "22d0d97c-65a9-4773-8565-39297680c472",
   "metadata": {},
   "source": [
    "### 2. Distributions"
   ]
  },
  {
   "cell_type": "code",
   "execution_count": 250,
   "id": "12122400-9104-4404-9ff7-7159b6e923c9",
   "metadata": {},
   "outputs": [
    {
     "data": {
      "text/html": [
       "<table border=\"1\" class=\"dataframe\">\n",
       "    <thead>\n",
       "        <tr>\n",
       "            <th>S(omega)</th> <th>P(omega) sum</th>\n",
       "        </tr>\n",
       "    </thead>\n",
       "    <tbody>\n",
       "        <tr>\n",
       "            <td>5       </td> <td>0.000128601 </td>\n",
       "        </tr>\n",
       "        <tr>\n",
       "            <td>6       </td> <td>0.000643004 </td>\n",
       "        </tr>\n",
       "        <tr>\n",
       "            <td>7       </td> <td>0.00192901  </td>\n",
       "        </tr>\n",
       "        <tr>\n",
       "            <td>8       </td> <td>0.00450103  </td>\n",
       "        </tr>\n",
       "        <tr>\n",
       "            <td>9       </td> <td>0.00900206  </td>\n",
       "        </tr>\n",
       "        <tr>\n",
       "            <td>10      </td> <td>0.0162037   </td>\n",
       "        </tr>\n",
       "        <tr>\n",
       "            <td>11      </td> <td>0.0263632   </td>\n",
       "        </tr>\n",
       "        <tr>\n",
       "            <td>12      </td> <td>0.0392233   </td>\n",
       "        </tr>\n",
       "        <tr>\n",
       "            <td>13      </td> <td>0.0540123   </td>\n",
       "        </tr>\n",
       "        <tr>\n",
       "            <td>14      </td> <td>0.0694444   </td>\n",
       "        </tr>\n",
       "    </tbody>\n",
       "</table>\n",
       "<p>... (16 rows omitted)</p>"
      ],
      "text/plain": [
       "S(omega) | P(omega) sum\n",
       "5        | 0.000128601\n",
       "6        | 0.000643004\n",
       "7        | 0.00192901\n",
       "8        | 0.00450103\n",
       "9        | 0.00900206\n",
       "10       | 0.0162037\n",
       "11       | 0.0263632\n",
       "12       | 0.0392233\n",
       "13       | 0.0540123\n",
       "14       | 0.0694444\n",
       "... (16 rows omitted)"
      ]
     },
     "execution_count": 250,
     "metadata": {},
     "output_type": "execute_result"
    }
   ],
   "source": [
    "dist_S = five_rolls_sum.drop('omega').group('S(omega)', sum)\n",
    "dist_S"
   ]
  },
  {
   "cell_type": "code",
   "execution_count": 251,
   "id": "b8ef15a8-eadc-442c-bd3f-e15038322723",
   "metadata": {},
   "outputs": [
    {
     "data": {
      "image/png": "[encoded data removed]",
      "text/plain": [
       "<Figure size 640x480 with 1 Axes>"
      ]
     },
     "metadata": {},
     "output_type": "display_data"
    }
   ],
   "source": [
    "Plot(dist_S)"
   ]
  },
  {
   "cell_type": "markdown",
   "id": "d2441a03-48f4-4576-96df-625dd107e3bc",
   "metadata": {},
   "source": [
    "the interval between the points of inflection of the bell curve contains about 68% of the area of the curve. Though the histogram above isn't exactly a bell curve – it is a discrete histogram with only 26 bars\n"
   ]
  },
  {
   "cell_type": "code",
   "execution_count": 253,
   "id": "0b5024bc-faa8-4aa3-a227-fd1b3486f95b",
   "metadata": {},
   "outputs": [
    {
     "data": {
      "text/html": [
       "<table border=\"1\" class=\"dataframe\">\n",
       "    <thead>\n",
       "        <tr>\n",
       "            <th>Value</th> <th>Probability</th>\n",
       "        </tr>\n",
       "    </thead>\n",
       "    <tbody>\n",
       "        <tr>\n",
       "            <td>5    </td> <td>0.000128601</td>\n",
       "        </tr>\n",
       "        <tr>\n",
       "            <td>6    </td> <td>0.000643004</td>\n",
       "        </tr>\n",
       "        <tr>\n",
       "            <td>7    </td> <td>0.00192901 </td>\n",
       "        </tr>\n",
       "        <tr>\n",
       "            <td>8    </td> <td>0.00450103 </td>\n",
       "        </tr>\n",
       "        <tr>\n",
       "            <td>9    </td> <td>0.00900206 </td>\n",
       "        </tr>\n",
       "        <tr>\n",
       "            <td>10   </td> <td>0.0162037  </td>\n",
       "        </tr>\n",
       "        <tr>\n",
       "            <td>11   </td> <td>0.0263632  </td>\n",
       "        </tr>\n",
       "        <tr>\n",
       "            <td>12   </td> <td>0.0392233  </td>\n",
       "        </tr>\n",
       "        <tr>\n",
       "            <td>13   </td> <td>0.0540123  </td>\n",
       "        </tr>\n",
       "        <tr>\n",
       "            <td>14   </td> <td>0.0694444  </td>\n",
       "        </tr>\n",
       "    </tbody>\n",
       "</table>\n",
       "<p>... (16 rows omitted)</p>"
      ],
      "text/plain": [
       "Value | Probability\n",
       "5     | 0.000128601\n",
       "6     | 0.000643004\n",
       "7     | 0.00192901\n",
       "8     | 0.00450103\n",
       "9     | 0.00900206\n",
       "10    | 0.0162037\n",
       "11    | 0.0263632\n",
       "12    | 0.0392233\n",
       "13    | 0.0540123\n",
       "14    | 0.0694444\n",
       "... (16 rows omitted)"
      ]
     },
     "execution_count": 253,
     "metadata": {},
     "output_type": "execute_result"
    }
   ],
   "source": [
    "s = dist_S.column(0)\n",
    "p_s = dist_S.column(1)\n",
    "dist_S = Table().values(s).probabilities(p_s)\n",
    "dist_S"
   ]
  },
  {
   "cell_type": "markdown",
   "id": "78f9ea9a-5203-40d2-af41-06233e9f1f5f",
   "metadata": {},
   "source": [
    "The `event` method takes one argument specifying the event. It displays the rows of the distribution table corresponding to `event` and also the probability of the event.\n",
    "\n",
    "To find $P(14 \\le S \\le 21)$, use `event` as follows."
   ]
  },
  {
   "cell_type": "code",
   "execution_count": 255,
   "id": "785d4dd4-25e2-4997-bcb9-a9b8bff1eeb2",
   "metadata": {},
   "outputs": [
    {
     "data": {
      "text/html": [
       "<table border=\"1\" class=\"dataframe\">\n",
       "    <thead>\n",
       "        <tr>\n",
       "            <th>Value</th> <th>Probability</th>\n",
       "        </tr>\n",
       "    </thead>\n",
       "    <tbody>\n",
       "        <tr>\n",
       "            <td>14   </td> <td>0.0694444  </td>\n",
       "        </tr>\n",
       "        <tr>\n",
       "            <td>15   </td> <td>0.0837191  </td>\n",
       "        </tr>\n",
       "        <tr>\n",
       "            <td>16   </td> <td>0.0945216  </td>\n",
       "        </tr>\n",
       "        <tr>\n",
       "            <td>17   </td> <td>0.100309   </td>\n",
       "        </tr>\n",
       "        <tr>\n",
       "            <td>18   </td> <td>0.100309   </td>\n",
       "        </tr>\n",
       "        <tr>\n",
       "            <td>19   </td> <td>0.0945216  </td>\n",
       "        </tr>\n",
       "        <tr>\n",
       "            <td>20   </td> <td>0.0837191  </td>\n",
       "        </tr>\n",
       "        <tr>\n",
       "            <td>21   </td> <td>0.0694444  </td>\n",
       "        </tr>\n",
       "    </tbody>\n",
       "</table>"
      ],
      "text/plain": [
       "Value | Probability\n",
       "14    | 0.0694444\n",
       "15    | 0.0837191\n",
       "16    | 0.0945216\n",
       "17    | 0.100309\n",
       "18    | 0.100309\n",
       "19    | 0.0945216\n",
       "20    | 0.0837191\n",
       "21    | 0.0694444"
      ]
     },
     "execution_count": 255,
     "metadata": {},
     "output_type": "execute_result"
    }
   ],
   "source": [
    "dist_S.where('Value', are.between(14,22))"
   ]
  },
  {
   "cell_type": "code",
   "execution_count": 256,
   "id": "14c41d15-532c-4c33-9029-5e03bc04f10c",
   "metadata": {},
   "outputs": [
    {
     "data": {
      "text/plain": [
       "0.6959876543209863"
      ]
     },
     "execution_count": 256,
     "metadata": {},
     "output_type": "execute_result"
    }
   ],
   "source": [
    "dist_S.where('Value', are.between(14,22)).column('Probability').sum()"
   ]
  },
  {
   "cell_type": "markdown",
   "id": "6d8010af-585a-41a3-add3-1fa67011afdb",
   "metadata": {},
   "source": [
    "The chance is 69.6%, not very far from our estimate of around 68%.\n",
    "\n",
    "To find the numerical value of the probability without displaying all the outcomes in the event, use `event` as above and put a semi-colon at the end of the line. This suppresses the table display."
   ]
  },
  {
   "cell_type": "code",
   "execution_count": 258,
   "id": "ac509bef-280e-45f0-bf13-ed5cf432b2de",
   "metadata": {},
   "outputs": [
    {
     "data": {
      "text/plain": [
       "0.30516975308642041"
      ]
     },
     "execution_count": 258,
     "metadata": {},
     "output_type": "execute_result"
    }
   ],
   "source": [
    "dist_S.where('Value', are.between(20,31)).column('Probability').sum()"
   ]
  },
  {
   "cell_type": "code",
   "execution_count": 259,
   "id": "a33edef2-6cf1-47f0-8bdd-dac3e5ac534f",
   "metadata": {},
   "outputs": [
    {
     "data": {
      "text/plain": [
       "0.39969135802469169"
      ]
     },
     "execution_count": 259,
     "metadata": {},
     "output_type": "execute_result"
    }
   ],
   "source": [
    "dist_S.where('Value', are.between(4,17)).column('Probability').sum()"
   ]
  },
  {
   "cell_type": "code",
   "execution_count": null,
   "id": "54a3b41f-9c62-403a-9a54-c9bc761f7a5d",
   "metadata": {},
   "outputs": [],
   "source": []
  },
  {
   "cell_type": "code",
   "execution_count": null,
   "id": "ddf5b672-8519-45fe-9c6c-038be4b0bcf2",
   "metadata": {},
   "outputs": [],
   "source": []
  }
 ],
 "metadata": {
  "kernelspec": {
   "display_name": "Python 3 (ipykernel)",
   "language": "python",
   "name": "python3"
  },
  "language_info": {
   "codemirror_mode": {
    "name": "ipython",
    "version": 3
   },
   "file_extension": ".py",
   "mimetype": "text/x-python",
   "name": "python",
   "nbconvert_exporter": "python",
   "pygments_lexer": "ipython3",
   "version": "3.11.5"
  }
 },
 "nbformat": 4,
 "nbformat_minor": 5
}
